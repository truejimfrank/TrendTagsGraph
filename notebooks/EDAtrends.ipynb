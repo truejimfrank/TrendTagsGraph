{
 "cells": [
  {
   "cell_type": "markdown",
   "metadata": {},
   "source": [
    "# YouTube Trending Video EDA CSV"
   ]
  },
  {
   "cell_type": "code",
   "execution_count": null,
   "metadata": {},
   "outputs": [],
   "source": [
    "import pandas as pd\n",
    "import numpy as np\n",
    "from matplotlib import pyplot as plt\n",
    "import seaborn as sns"
   ]
  },
  {
   "cell_type": "code",
   "execution_count": null,
   "metadata": {},
   "outputs": [],
   "source": [
    "df = pd.read_csv(\"../../data/trends/USvideos.csv\")\n",
    "df.head(3)"
   ]
  },
  {
   "cell_type": "code",
   "execution_count": null,
   "metadata": {},
   "outputs": [],
   "source": [
    "df.info()"
   ]
  },
  {
   "cell_type": "code",
   "execution_count": null,
   "metadata": {},
   "outputs": [],
   "source": [
    "df[df[\"description\"].apply(lambda x: pd.isna(x))].head(3)"
   ]
  },
  {
   "cell_type": "code",
   "execution_count": null,
   "metadata": {},
   "outputs": [],
   "source": [
    "df[\"description\"] = df[\"description\"].fillna(value=\"\")"
   ]
  },
  {
   "cell_type": "code",
   "execution_count": null,
   "metadata": {},
   "outputs": [],
   "source": [
    "df[\"trending_date\"].sort_values().head(3)"
   ]
  },
  {
   "cell_type": "code",
   "execution_count": null,
   "metadata": {},
   "outputs": [],
   "source": [
    "df[\"trending_date\"].sort_values(ascending=False).head(3)"
   ]
  },
  {
   "cell_type": "markdown",
   "metadata": {},
   "source": [
    "Sorting \"trending_date\" with sort_values is not giving earliest and latest days as desired because format is year.day.month. Was able to use output from df[\"trending_date\"].unique() to find earliest and latest days"
   ]
  },
  {
   "cell_type": "code",
   "execution_count": null,
   "metadata": {},
   "outputs": [],
   "source": [
    "df[\"trending_date\"].unique().size"
   ]
  },
  {
   "cell_type": "markdown",
   "metadata": {},
   "source": [
    "# '17.14.11' is earliest day. '18.14.06' is latest day.  \n",
    "11/14/2017 --- 6/14/2018  Using time calculator: 213 days (7months)  \n",
    "213-205=8 This means that 8 days are missing trending video data. (Given \"trending_date\" size above)"
   ]
  },
  {
   "cell_type": "code",
   "execution_count": null,
   "metadata": {},
   "outputs": [],
   "source": [
    "df[\"video_id\"].unique().size"
   ]
  },
  {
   "cell_type": "markdown",
   "metadata": {},
   "source": [
    "# Videos appear multiple times. 6351 videos. 40949 rows"
   ]
  },
  {
   "cell_type": "code",
   "execution_count": null,
   "metadata": {},
   "outputs": [],
   "source": [
    "df.describe()"
   ]
  },
  {
   "cell_type": "code",
   "execution_count": null,
   "metadata": {},
   "outputs": [],
   "source": [
    "df[\"views\"].sort_values(ascending=False).head()"
   ]
  },
  {
   "cell_type": "markdown",
   "metadata": {},
   "source": [
    "# View count range suprisingly large 549 - 225,211,923"
   ]
  },
  {
   "cell_type": "code",
   "execution_count": null,
   "metadata": {},
   "outputs": [],
   "source": [
    "df.describe(include = ['O'])"
   ]
  },
  {
   "cell_type": "markdown",
   "metadata": {},
   "source": [
    "# 6055 / 6351 unique tags to unique videos  \n",
    "# The tag data has good variety and usefulness"
   ]
  },
  {
   "cell_type": "code",
   "execution_count": null,
   "metadata": {},
   "outputs": [],
   "source": [
    "df[\"tags\"].unique()[25:30]"
   ]
  },
  {
   "cell_type": "code",
   "execution_count": null,
   "metadata": {},
   "outputs": [],
   "source": [
    "df.corr()"
   ]
  },
  {
   "cell_type": "markdown",
   "metadata": {},
   "source": [
    "Viewcount is understandably corellated to likes (0.849), dislikes (0.472), and comment count (0.618)"
   ]
  },
  {
   "cell_type": "code",
   "execution_count": null,
   "metadata": {},
   "outputs": [],
   "source": [
    "np.sort(df[\"category_id\"].unique())"
   ]
  },
  {
   "cell_type": "code",
   "execution_count": 54,
   "metadata": {},
   "outputs": [
    {
     "data": {
      "text/plain": [
       "[[none]]                                                                                                                                                                                                                                                                                                                                                                                                                1535\n",
       "[ABC, americanidol, idol, american idol, ryan, seacrest, ryan seacrest, katy, perry, katy perry, luke, bryan, luke bryan, lionel, richie, lionel richie, season 16, american idol XVI, television, ad, spring, 2018, music, reality, competition, song, sing, audition, auditions, performance, live, fox, AI, hollywood, contestant, official, american, official american idol, hollywood week, hometown audition]      87\n",
       "[Jacksfilms, Jack Douglass, YGS, YGS 100, YGS 50, The Best of Your Grammar Sucks, Your Grammar Sucks, YIAY, Yesterday I Asked You, Fidget Spinners, Emoji Movie, Kermit Sings, JackAsk, Jack Ask, Dubstep Solves Everything, Frozen 2, iPhone Parody, Apple Parody]                                                                                                                                                       80\n",
       "Name: tags, dtype: int64"
      ]
     },
     "execution_count": 54,
     "metadata": {},
     "output_type": "execute_result"
    }
   ],
   "source": [
    "# tags_list = df['tags'].str.replace('\"', '').str.split('|')\n",
    "tags_list = pd.Series(df['tags'].str.replace('\"', '').str.split('|'))\n",
    "# df['tags_count'] = pd.series(tags_list).value_counts\n",
    "# df['tags'].str.replace('\"', '').str.split('|')[10][-15:]\n",
    "# pd.concat(tags_list)\n",
    "tags_list.value_counts().head(3)"
   ]
  },
  {
   "cell_type": "code",
   "execution_count": null,
   "metadata": {},
   "outputs": [],
   "source": [
    "dfsel = df.groupby(['video_id']).max().copy()\n",
    "dfsel.head()"
   ]
  },
  {
   "cell_type": "code",
   "execution_count": 71,
   "metadata": {},
   "outputs": [
    {
     "data": {
      "text/plain": [
       "126729"
      ]
     },
     "execution_count": 71,
     "metadata": {},
     "output_type": "execute_result"
    }
   ],
   "source": [
    "tags_sel = pd.Series(dfsel['tags'].str.replace('\"', '').str.split('|'))\n",
    "flatten_matrix = [val for sublist in tags_sel for val in sublist]\n",
    "# list_all = []\n",
    "# [[list_all.append(tag) for tag in t_list] for t_list in tags_sel]\n",
    "# len(list_all)\n",
    "len(flatten_matrix)\n",
    "# flatten_matrix[:9]"
   ]
  },
  {
   "cell_type": "code",
   "execution_count": 81,
   "metadata": {},
   "outputs": [
    {
     "data": {
      "text/plain": [
       "56506"
      ]
     },
     "execution_count": 81,
     "metadata": {},
     "output_type": "execute_result"
    }
   ],
   "source": [
    "pd.Series(flatten_matrix).unique().size"
   ]
  },
  {
   "cell_type": "code",
   "execution_count": 84,
   "metadata": {},
   "outputs": [
    {
     "data": {
      "text/html": [
       "<div>\n",
       "<style scoped>\n",
       "    .dataframe tbody tr th:only-of-type {\n",
       "        vertical-align: middle;\n",
       "    }\n",
       "\n",
       "    .dataframe tbody tr th {\n",
       "        vertical-align: top;\n",
       "    }\n",
       "\n",
       "    .dataframe thead th {\n",
       "        text-align: right;\n",
       "    }\n",
       "</style>\n",
       "<table border=\"1\" class=\"dataframe\">\n",
       "  <thead>\n",
       "    <tr style=\"text-align: right;\">\n",
       "      <th></th>\n",
       "      <th>tags</th>\n",
       "      <th>tags_count</th>\n",
       "    </tr>\n",
       "    <tr>\n",
       "      <th>video_id</th>\n",
       "      <th></th>\n",
       "      <th></th>\n",
       "    </tr>\n",
       "  </thead>\n",
       "  <tbody>\n",
       "    <tr>\n",
       "      <th>-0CMnp02rNY</th>\n",
       "      <td>ellen|\"ellen degeneres\"|\"the ellen show\"|\"elle...</td>\n",
       "      <td>33</td>\n",
       "    </tr>\n",
       "    <tr>\n",
       "      <th>-0NYY8cqdiQ</th>\n",
       "      <td>megan mullally|\"megan\"|\"mullally\"|\"will and gr...</td>\n",
       "      <td>33</td>\n",
       "    </tr>\n",
       "    <tr>\n",
       "      <th>-1Hm41N0dUs</th>\n",
       "      <td>jimmy|\"jimmy kimmel\"|\"jimmy kimmel live\"|\"late...</td>\n",
       "      <td>23</td>\n",
       "    </tr>\n",
       "    <tr>\n",
       "      <th>-1yT-K3c6YI</th>\n",
       "      <td>youtube quiz|\"youtuber quiz\"|\"truth or dare\"|\"...</td>\n",
       "      <td>8</td>\n",
       "    </tr>\n",
       "    <tr>\n",
       "      <th>-2RVw2_QyxQ</th>\n",
       "      <td>Chess|\"Saint Louis\"|\"Club\"</td>\n",
       "      <td>3</td>\n",
       "    </tr>\n",
       "  </tbody>\n",
       "</table>\n",
       "</div>"
      ],
      "text/plain": [
       "                                                          tags  tags_count\n",
       "video_id                                                                  \n",
       "-0CMnp02rNY  ellen|\"ellen degeneres\"|\"the ellen show\"|\"elle...          33\n",
       "-0NYY8cqdiQ  megan mullally|\"megan\"|\"mullally\"|\"will and gr...          33\n",
       "-1Hm41N0dUs  jimmy|\"jimmy kimmel\"|\"jimmy kimmel live\"|\"late...          23\n",
       "-1yT-K3c6YI  youtube quiz|\"youtuber quiz\"|\"truth or dare\"|\"...           8\n",
       "-2RVw2_QyxQ                         Chess|\"Saint Louis\"|\"Club\"           3"
      ]
     },
     "execution_count": 84,
     "metadata": {},
     "output_type": "execute_result"
    }
   ],
   "source": [
    "# list_for_count = \n",
    "dfsel['tags_count'] = tags_sel.apply(lambda x: len(x))\n",
    "# len(dfsel['tags'])\n",
    "dfsel[['tags', 'tags_count']].head()"
   ]
  },
  {
   "cell_type": "code",
   "execution_count": 107,
   "metadata": {},
   "outputs": [],
   "source": [
    "# dfsel[dfsel['tags'] == \"[none]\"].shape\n",
    "# dfsel.loc[:, 'tags_count'][dfsel['tags'] == \"[none]\"] = 0\n",
    "dfsel.loc[dfsel['tags'] == \"[none]\", ['tags_count']] = 0\n",
    "# dfsel[['tags', 'tags_count']]"
   ]
  },
  {
   "cell_type": "code",
   "execution_count": null,
   "metadata": {},
   "outputs": [],
   "source": []
  }
 ],
 "metadata": {
  "kernelspec": {
   "display_name": "Python 3",
   "language": "python",
   "name": "python3"
  },
  "language_info": {
   "codemirror_mode": {
    "name": "ipython",
    "version": 3
   },
   "file_extension": ".py",
   "mimetype": "text/x-python",
   "name": "python",
   "nbconvert_exporter": "python",
   "pygments_lexer": "ipython3",
   "version": "3.7.3"
  }
 },
 "nbformat": 4,
 "nbformat_minor": 2
}
